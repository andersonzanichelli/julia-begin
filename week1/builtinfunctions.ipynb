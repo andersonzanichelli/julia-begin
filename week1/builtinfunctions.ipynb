{
 "cells": [
  {
   "cell_type": "markdown",
   "metadata": {},
   "source": [
    "## Built in Functions"
   ]
  },
  {
   "cell_type": "code",
   "execution_count": 1,
   "metadata": {},
   "outputs": [
    {
     "data": {
      "text/plain": [
       "(0.9800665778412416, 2.302585092994046, 1.22)"
      ]
     },
     "execution_count": 1,
     "metadata": {},
     "output_type": "execute_result"
    }
   ],
   "source": [
    "a, b, c = cos(0.2), log(10), abs(-1.22)"
   ]
  },
  {
   "cell_type": "code",
   "execution_count": 2,
   "metadata": {},
   "outputs": [
    {
     "data": {
      "text/plain": [
       "0.9800665778412416"
      ]
     },
     "execution_count": 2,
     "metadata": {},
     "output_type": "execute_result"
    }
   ],
   "source": [
    "a"
   ]
  },
  {
   "cell_type": "code",
   "execution_count": 3,
   "metadata": {},
   "outputs": [
    {
     "data": {
      "text/plain": [
       "2.302585092994046"
      ]
     },
     "execution_count": 3,
     "metadata": {},
     "output_type": "execute_result"
    }
   ],
   "source": [
    "b"
   ]
  },
  {
   "cell_type": "code",
   "execution_count": 4,
   "metadata": {},
   "outputs": [
    {
     "data": {
      "text/plain": [
       "1.22"
      ]
     },
     "execution_count": 4,
     "metadata": {},
     "output_type": "execute_result"
    }
   ],
   "source": [
    "c"
   ]
  },
  {
   "cell_type": "code",
   "execution_count": 5,
   "metadata": {},
   "outputs": [
    {
     "name": "stdout",
     "output_type": "stream",
     "text": [
      "search: \u001b[0m\u001b[1mc\u001b[22m\u001b[0m\u001b[1mo\u001b[22m\u001b[0m\u001b[1ms\u001b[22m \u001b[0m\u001b[1mc\u001b[22m\u001b[0m\u001b[1mo\u001b[22m\u001b[0m\u001b[1ms\u001b[22mh \u001b[0m\u001b[1mc\u001b[22m\u001b[0m\u001b[1mo\u001b[22m\u001b[0m\u001b[1ms\u001b[22md \u001b[0m\u001b[1mc\u001b[22m\u001b[0m\u001b[1mo\u001b[22m\u001b[0m\u001b[1ms\u001b[22mc \u001b[0m\u001b[1mc\u001b[22m\u001b[0m\u001b[1mo\u001b[22m\u001b[0m\u001b[1ms\u001b[22mpi a\u001b[0m\u001b[1mc\u001b[22m\u001b[0m\u001b[1mo\u001b[22m\u001b[0m\u001b[1ms\u001b[22m a\u001b[0m\u001b[1mc\u001b[22m\u001b[0m\u001b[1mo\u001b[22m\u001b[0m\u001b[1ms\u001b[22mh a\u001b[0m\u001b[1mc\u001b[22m\u001b[0m\u001b[1mo\u001b[22m\u001b[0m\u001b[1ms\u001b[22md sin\u001b[0m\u001b[1mc\u001b[22m\u001b[0m\u001b[1mo\u001b[22m\u001b[0m\u001b[1ms\u001b[22m \u001b[0m\u001b[1mc\u001b[22m\u001b[0m\u001b[1mo\u001b[22mn\u001b[0m\u001b[1ms\u001b[22mt \u001b[0m\u001b[1mc\u001b[22ml\u001b[0m\u001b[1mo\u001b[22m\u001b[0m\u001b[1ms\u001b[22me is\u001b[0m\u001b[1mc\u001b[22m\u001b[0m\u001b[1mo\u001b[22mn\u001b[0m\u001b[1ms\u001b[22mt\n",
      "\n"
     ]
    },
    {
     "data": {
      "text/latex": [
       "\\begin{verbatim}\n",
       "cos(x)\n",
       "\\end{verbatim}\n",
       "Compute cosine of \\texttt{x}, where \\texttt{x} is in radians.\n",
       "\n",
       "\\rule{\\textwidth}{1pt}\n",
       "\\begin{verbatim}\n",
       "cos(A::AbstractMatrix)\n",
       "\\end{verbatim}\n",
       "Compute the matrix cosine of a square matrix \\texttt{A}.\n",
       "\n",
       "If \\texttt{A} is symmetric or Hermitian, its eigendecomposition (\\href{@ref}{\\texttt{eigen}}) is used to compute the cosine. Otherwise, the cosine is determined by calling \\href{@ref}{\\texttt{exp}}.\n",
       "\n",
       "\\section{Examples}\n",
       "\\begin{verbatim}\n",
       "julia> cos(fill(1.0, (2,2)))\n",
       "2×2 Array{Float64,2}:\n",
       "  0.291927  -0.708073\n",
       " -0.708073   0.291927\n",
       "\\end{verbatim}\n"
      ],
      "text/markdown": [
       "```\n",
       "cos(x)\n",
       "```\n",
       "\n",
       "Compute cosine of `x`, where `x` is in radians.\n",
       "\n",
       "---\n",
       "\n",
       "```\n",
       "cos(A::AbstractMatrix)\n",
       "```\n",
       "\n",
       "Compute the matrix cosine of a square matrix `A`.\n",
       "\n",
       "If `A` is symmetric or Hermitian, its eigendecomposition ([`eigen`](@ref)) is used to compute the cosine. Otherwise, the cosine is determined by calling [`exp`](@ref).\n",
       "\n",
       "# Examples\n",
       "\n",
       "```jldoctest\n",
       "julia> cos(fill(1.0, (2,2)))\n",
       "2×2 Array{Float64,2}:\n",
       "  0.291927  -0.708073\n",
       " -0.708073   0.291927\n",
       "```\n"
      ],
      "text/plain": [
       "\u001b[36m  cos(x)\u001b[39m\n",
       "\n",
       "  Compute cosine of \u001b[36mx\u001b[39m, where \u001b[36mx\u001b[39m is in radians.\n",
       "\n",
       "  ────────────────────────────────────────────────────────────────────────────\n",
       "\n",
       "\u001b[36m  cos(A::AbstractMatrix)\u001b[39m\n",
       "\n",
       "  Compute the matrix cosine of a square matrix \u001b[36mA\u001b[39m.\n",
       "\n",
       "  If \u001b[36mA\u001b[39m is symmetric or Hermitian, its eigendecomposition (\u001b[36meigen\u001b[39m) is used to\n",
       "  compute the cosine. Otherwise, the cosine is determined by calling \u001b[36mexp\u001b[39m.\n",
       "\n",
       "\u001b[1m  Examples\u001b[22m\n",
       "\u001b[1m  ≡≡≡≡≡≡≡≡≡≡\u001b[22m\n",
       "\n",
       "\u001b[36m  julia> cos(fill(1.0, (2,2)))\u001b[39m\n",
       "\u001b[36m  2×2 Array{Float64,2}:\u001b[39m\n",
       "\u001b[36m    0.291927  -0.708073\u001b[39m\n",
       "\u001b[36m   -0.708073   0.291927\u001b[39m"
      ]
     },
     "execution_count": 5,
     "metadata": {},
     "output_type": "execute_result"
    }
   ],
   "source": [
    "?cos"
   ]
  },
  {
   "cell_type": "code",
   "execution_count": 7,
   "metadata": {},
   "outputs": [
    {
     "name": "stdout",
     "output_type": "stream",
     "text": [
      "search: sc\u001b[0m\u001b[1mh\u001b[22m\u001b[0m\u001b[1me\u001b[22mdu\u001b[0m\u001b[1ml\u001b[22me C\u001b[0m\u001b[1mh\u001b[22mann\u001b[0m\u001b[1me\u001b[22m\u001b[0m\u001b[1ml\u001b[22m @t\u001b[0m\u001b[1mh\u001b[22mr\u001b[0m\u001b[1me\u001b[22madca\u001b[0m\u001b[1ml\u001b[22ml AbstractC\u001b[0m\u001b[1mh\u001b[22mann\u001b[0m\u001b[1me\u001b[22m\u001b[0m\u001b[1ml\u001b[22m searc\u001b[0m\u001b[1mh\u001b[22msort\u001b[0m\u001b[1me\u001b[22md\u001b[0m\u001b[1ml\u001b[22mast\n",
      "\n"
     ]
    },
    {
     "data": {
      "text/latex": [
       "\\textbf{Welcome to Julia 1.0.3.} The full manual is available at\n",
       "\n",
       "\\begin{verbatim}\n",
       "https://docs.julialang.org/\n",
       "\\end{verbatim}\n",
       "as well as many great tutorials and learning resources:\n",
       "\n",
       "\\begin{verbatim}\n",
       "https://julialang.org/learning/\n",
       "\\end{verbatim}\n",
       "For help on a specific function or macro, type \\texttt{?} followed by its name, e.g. \\texttt{?cos}, or \\texttt{?@time}, and press enter. Type \\texttt{;} to enter shell mode, \\texttt{]} to enter package mode.\n",
       "\n"
      ],
      "text/markdown": [
       "**Welcome to Julia 1.0.3.** The full manual is available at\n",
       "\n",
       "```\n",
       "https://docs.julialang.org/\n",
       "```\n",
       "\n",
       "as well as many great tutorials and learning resources:\n",
       "\n",
       "```\n",
       "https://julialang.org/learning/\n",
       "```\n",
       "\n",
       "For help on a specific function or macro, type `?` followed by its name, e.g. `?cos`, or `?@time`, and press enter. Type `;` to enter shell mode, `]` to enter package mode.\n"
      ],
      "text/plain": [
       "  \u001b[1mWelcome to Julia 1.0.3.\u001b[22m The full manual is available at\n",
       "\n",
       "\u001b[36m  https://docs.julialang.org/\u001b[39m\n",
       "\n",
       "  as well as many great tutorials and learning resources:\n",
       "\n",
       "\u001b[36m  https://julialang.org/learning/\u001b[39m\n",
       "\n",
       "  For help on a specific function or macro, type \u001b[36m?\u001b[39m followed by its name, e.g.\n",
       "  \u001b[36m?cos\u001b[39m, or \u001b[36m?@time\u001b[39m, and press enter. Type \u001b[36m;\u001b[39m to enter shell mode, \u001b[36m]\u001b[39m to enter\n",
       "  package mode."
      ]
     },
     "execution_count": 7,
     "metadata": {},
     "output_type": "execute_result"
    }
   ],
   "source": [
    "? help"
   ]
  },
  {
   "cell_type": "code",
   "execution_count": 8,
   "metadata": {},
   "outputs": [
    {
     "name": "stdout",
     "output_type": "stream",
     "text": [
      "search: clear_\u001b[0m\u001b[1mh\u001b[22m\u001b[0m\u001b[1mi\u001b[22m\u001b[0m\u001b[1ms\u001b[22m\u001b[0m\u001b[1mt\u001b[22mory pus\u001b[0m\u001b[1mh\u001b[22mf\u001b[0m\u001b[1mi\u001b[22mr\u001b[0m\u001b[1ms\u001b[22m\u001b[0m\u001b[1mt\u001b[22m! searc\u001b[0m\u001b[1mh\u001b[22msortedf\u001b[0m\u001b[1mi\u001b[22mr\u001b[0m\u001b[1ms\u001b[22m\u001b[0m\u001b[1mt\u001b[22m t\u001b[0m\u001b[1mh\u001b[22m\u001b[0m\u001b[1mi\u001b[22m\u001b[0m\u001b[1ms\u001b[22mind pus\u001b[0m\u001b[1mh\u001b[22md\u001b[0m\u001b[1mi\u001b[22m\u001b[0m\u001b[1ms\u001b[22mplay\n",
      "\n",
      "Couldn't find \u001b[36mhist\u001b[39m\n",
      "Perhaps you meant hash, hcat, Cint, Dict, cis, first, last, isa, which or while\n"
     ]
    },
    {
     "data": {
      "text/latex": [
       "No documentation found.\n",
       "\n",
       "Binding \\texttt{hist} does not exist.\n",
       "\n"
      ],
      "text/markdown": [
       "No documentation found.\n",
       "\n",
       "Binding `hist` does not exist.\n"
      ],
      "text/plain": [
       "  No documentation found.\n",
       "\n",
       "  Binding \u001b[36mhist\u001b[39m does not exist."
      ]
     },
     "execution_count": 8,
     "metadata": {},
     "output_type": "execute_result"
    }
   ],
   "source": [
    "? hist"
   ]
  },
  {
   "cell_type": "code",
   "execution_count": 9,
   "metadata": {},
   "outputs": [
    {
     "name": "stdout",
     "output_type": "stream",
     "text": [
      "search: \u001b[0m\u001b[1ms\u001b[22m\u001b[0m\u001b[1mi\u001b[22m\u001b[0m\u001b[1mz\u001b[22m\u001b[0m\u001b[1me\u001b[22m \u001b[0m\u001b[1ms\u001b[22m\u001b[0m\u001b[1mi\u001b[22m\u001b[0m\u001b[1mz\u001b[22m\u001b[0m\u001b[1me\u001b[22mof \u001b[0m\u001b[1ms\u001b[22m\u001b[0m\u001b[1mi\u001b[22m\u001b[0m\u001b[1mz\u001b[22m\u001b[0m\u001b[1me\u001b[22mhint! C\u001b[0m\u001b[1ms\u001b[22m\u001b[0m\u001b[1mi\u001b[22m\u001b[0m\u001b[1mz\u001b[22m\u001b[0m\u001b[1me\u001b[22m_t re\u001b[0m\u001b[1ms\u001b[22m\u001b[0m\u001b[1mi\u001b[22m\u001b[0m\u001b[1mz\u001b[22m\u001b[0m\u001b[1me\u001b[22m! file\u001b[0m\u001b[1ms\u001b[22m\u001b[0m\u001b[1mi\u001b[22m\u001b[0m\u001b[1mz\u001b[22m\u001b[0m\u001b[1me\u001b[22m C\u001b[0m\u001b[1ms\u001b[22ms\u001b[0m\u001b[1mi\u001b[22m\u001b[0m\u001b[1mz\u001b[22m\u001b[0m\u001b[1me\u001b[22m_t di\u001b[0m\u001b[1ms\u001b[22mplays\u001b[0m\u001b[1mi\u001b[22m\u001b[0m\u001b[1mz\u001b[22m\u001b[0m\u001b[1me\u001b[22m\n",
      "\n"
     ]
    },
    {
     "data": {
      "text/latex": [
       "\\begin{verbatim}\n",
       "size(A::AbstractArray, [dim])\n",
       "\\end{verbatim}\n",
       "Return a tuple containing the dimensions of \\texttt{A}. Optionally you can specify a dimension to just get the length of that dimension.\n",
       "\n",
       "Note that \\texttt{size} may not be defined for arrays with non-standard indices, in which case \\href{@ref}{\\texttt{axes}} may be useful. See the manual chapter on \\href{@ref man-custom-indices}{arrays with custom indices}.\n",
       "\n",
       "\\section{Examples}\n",
       "\\begin{verbatim}\n",
       "julia> A = fill(1, (2,3,4));\n",
       "\n",
       "julia> size(A)\n",
       "(2, 3, 4)\n",
       "\n",
       "julia> size(A, 2)\n",
       "3\n",
       "\\end{verbatim}\n"
      ],
      "text/markdown": [
       "```\n",
       "size(A::AbstractArray, [dim])\n",
       "```\n",
       "\n",
       "Return a tuple containing the dimensions of `A`. Optionally you can specify a dimension to just get the length of that dimension.\n",
       "\n",
       "Note that `size` may not be defined for arrays with non-standard indices, in which case [`axes`](@ref) may be useful. See the manual chapter on [arrays with custom indices](@ref man-custom-indices).\n",
       "\n",
       "# Examples\n",
       "\n",
       "```jldoctest\n",
       "julia> A = fill(1, (2,3,4));\n",
       "\n",
       "julia> size(A)\n",
       "(2, 3, 4)\n",
       "\n",
       "julia> size(A, 2)\n",
       "3\n",
       "```\n"
      ],
      "text/plain": [
       "\u001b[36m  size(A::AbstractArray, [dim])\u001b[39m\n",
       "\n",
       "  Return a tuple containing the dimensions of \u001b[36mA\u001b[39m. Optionally you can specify a\n",
       "  dimension to just get the length of that dimension.\n",
       "\n",
       "  Note that \u001b[36msize\u001b[39m may not be defined for arrays with non-standard indices, in\n",
       "  which case \u001b[36maxes\u001b[39m may be useful. See the manual chapter on arrays with custom\n",
       "  indices.\n",
       "\n",
       "\u001b[1m  Examples\u001b[22m\n",
       "\u001b[1m  ≡≡≡≡≡≡≡≡≡≡\u001b[22m\n",
       "\n",
       "\u001b[36m  julia> A = fill(1, (2,3,4));\u001b[39m\n",
       "\u001b[36m  \u001b[39m\n",
       "\u001b[36m  julia> size(A)\u001b[39m\n",
       "\u001b[36m  (2, 3, 4)\u001b[39m\n",
       "\u001b[36m  \u001b[39m\n",
       "\u001b[36m  julia> size(A, 2)\u001b[39m\n",
       "\u001b[36m  3\u001b[39m"
      ]
     },
     "execution_count": 9,
     "metadata": {},
     "output_type": "execute_result"
    }
   ],
   "source": [
    "?size"
   ]
  },
  {
   "cell_type": "code",
   "execution_count": 10,
   "metadata": {},
   "outputs": [
    {
     "data": {
      "text/plain": [
       "7.38905609893065"
      ]
     },
     "execution_count": 10,
     "metadata": {},
     "output_type": "execute_result"
    }
   ],
   "source": [
    "exp(2)"
   ]
  },
  {
   "cell_type": "code",
   "execution_count": 11,
   "metadata": {},
   "outputs": [
    {
     "data": {
      "text/plain": [
       "1.0"
      ]
     },
     "execution_count": 11,
     "metadata": {},
     "output_type": "execute_result"
    }
   ],
   "source": [
    "log10(10)"
   ]
  },
  {
   "cell_type": "code",
   "execution_count": 12,
   "metadata": {},
   "outputs": [
    {
     "data": {
      "text/plain": [
       "6.0"
      ]
     },
     "execution_count": 12,
     "metadata": {},
     "output_type": "execute_result"
    }
   ],
   "source": [
    "ceil(5.76)"
   ]
  },
  {
   "cell_type": "code",
   "execution_count": 13,
   "metadata": {},
   "outputs": [
    {
     "name": "stdout",
     "output_type": "stream",
     "text": [
      "search: \u001b[0m\u001b[1mr\u001b[22m\u001b[0m\u001b[1me\u001b[22m\u001b[0m\u001b[1mm\u001b[22m \u001b[0m\u001b[1mr\u001b[22m\u001b[0m\u001b[1me\u001b[22m\u001b[0m\u001b[1mm\u001b[22m2pi ba\u001b[0m\u001b[1mr\u001b[22m\u001b[0m\u001b[1me\u001b[22m\u001b[0m\u001b[1mm\u001b[22module div\u001b[0m\u001b[1mr\u001b[22m\u001b[0m\u001b[1me\u001b[22m\u001b[0m\u001b[1mm\u001b[22m ext\u001b[0m\u001b[1mr\u001b[22m\u001b[0m\u001b[1me\u001b[22m\u001b[0m\u001b[1mm\u001b[22ma \u001b[0m\u001b[1mr\u001b[22m\u001b[0m\u001b[1me\u001b[22mi\u001b[0m\u001b[1mm\u001b[22m IOSt\u001b[0m\u001b[1mr\u001b[22m\u001b[0m\u001b[1me\u001b[22ma\u001b[0m\u001b[1mm\u001b[22m p\u001b[0m\u001b[1mr\u001b[22m\u001b[0m\u001b[1me\u001b[22mco\u001b[0m\u001b[1mm\u001b[22mpile\n",
      "\n"
     ]
    },
    {
     "data": {
      "text/latex": [
       "\\begin{verbatim}\n",
       "rem(x::Integer, T::Type{<:Integer}) -> T\n",
       "mod(x::Integer, T::Type{<:Integer}) -> T\n",
       "%(x::Integer, T::Type{<:Integer}) -> T\n",
       "\\end{verbatim}\n",
       "Find \\texttt{y::T} such that \\texttt{x} ≡ \\texttt{y} (mod n), where n is the number of integers representable in \\texttt{T}, and \\texttt{y} is an integer in \\texttt{[typemin(T),typemax(T)]}. If \\texttt{T} can represent any integer (e.g. \\texttt{T == BigInt}), then this operation corresponds to a conversion to \\texttt{T}.\n",
       "\n",
       "\\section{Examples}\n",
       "\\begin{verbatim}\n",
       "julia> 129 % Int8\n",
       "-127\n",
       "\\end{verbatim}\n",
       "\\rule{\\textwidth}{1pt}\n",
       "\\begin{verbatim}\n",
       "rem(x, y)\n",
       "%(x, y)\n",
       "\\end{verbatim}\n",
       "Remainder from Euclidean division, returning a value of the same sign as \\texttt{x}, and smaller in magnitude than \\texttt{y}. This value is always exact.\n",
       "\n",
       "\\section{Examples}\n",
       "\\begin{verbatim}\n",
       "julia> x = 15; y = 4;\n",
       "\n",
       "julia> x % y\n",
       "3\n",
       "\n",
       "julia> x == div(x, y) * y + rem(x, y)\n",
       "true\n",
       "\\end{verbatim}\n",
       "\\rule{\\textwidth}{1pt}\n",
       "\\begin{verbatim}\n",
       "rem(x, y, r::RoundingMode)\n",
       "\\end{verbatim}\n",
       "Compute the remainder of \\texttt{x} after integer division by \\texttt{y}, with the quotient rounded according to the rounding mode \\texttt{r}. In other words, the quantity\n",
       "\n",
       "\\begin{verbatim}\n",
       "x - y*round(x/y,r)\n",
       "\\end{verbatim}\n",
       "without any intermediate rounding.\n",
       "\n",
       "\\begin{itemize}\n",
       "\\item if \\texttt{r == RoundNearest}, then the result is exact, and in the interval $[-|y|/2, |y|/2]$. See also \\href{@ref}{\\texttt{RoundNearest}}.\n",
       "\n",
       "\n",
       "\\item if \\texttt{r == RoundToZero} (default), then the result is exact, and in the interval $[0, |y|)$ if \\texttt{x} is positive, or $(-|y|, 0]$ otherwise. See also \\href{@ref}{\\texttt{RoundToZero}}.\n",
       "\n",
       "\n",
       "\\item if \\texttt{r == RoundDown}, then the result is in the interval $[0, y)$ if \\texttt{y} is positive, or $(y, 0]$ otherwise. The result may not be exact if \\texttt{x} and \\texttt{y} have different signs, and \\texttt{abs(x) < abs(y)}. See also\\href{@ref}{\\texttt{RoundDown}}.\n",
       "\n",
       "\n",
       "\\item if \\texttt{r == RoundUp}, then the result is in the interval \\texttt{(-y,0]} if \\texttt{y} is positive, or \\texttt{[0,-y)} otherwise. The result may not be exact if \\texttt{x} and \\texttt{y} have the same sign, and \\texttt{abs(x) < abs(y)}. See also \\href{@ref}{\\texttt{RoundUp}}.\n",
       "\n",
       "\\end{itemize}\n"
      ],
      "text/markdown": [
       "```\n",
       "rem(x::Integer, T::Type{<:Integer}) -> T\n",
       "mod(x::Integer, T::Type{<:Integer}) -> T\n",
       "%(x::Integer, T::Type{<:Integer}) -> T\n",
       "```\n",
       "\n",
       "Find `y::T` such that `x` ≡ `y` (mod n), where n is the number of integers representable in `T`, and `y` is an integer in `[typemin(T),typemax(T)]`. If `T` can represent any integer (e.g. `T == BigInt`), then this operation corresponds to a conversion to `T`.\n",
       "\n",
       "# Examples\n",
       "\n",
       "```jldoctest\n",
       "julia> 129 % Int8\n",
       "-127\n",
       "```\n",
       "\n",
       "---\n",
       "\n",
       "```\n",
       "rem(x, y)\n",
       "%(x, y)\n",
       "```\n",
       "\n",
       "Remainder from Euclidean division, returning a value of the same sign as `x`, and smaller in magnitude than `y`. This value is always exact.\n",
       "\n",
       "# Examples\n",
       "\n",
       "```jldoctest\n",
       "julia> x = 15; y = 4;\n",
       "\n",
       "julia> x % y\n",
       "3\n",
       "\n",
       "julia> x == div(x, y) * y + rem(x, y)\n",
       "true\n",
       "```\n",
       "\n",
       "---\n",
       "\n",
       "```\n",
       "rem(x, y, r::RoundingMode)\n",
       "```\n",
       "\n",
       "Compute the remainder of `x` after integer division by `y`, with the quotient rounded according to the rounding mode `r`. In other words, the quantity\n",
       "\n",
       "```\n",
       "x - y*round(x/y,r)\n",
       "```\n",
       "\n",
       "without any intermediate rounding.\n",
       "\n",
       "  * if `r == RoundNearest`, then the result is exact, and in the interval $[-|y|/2, |y|/2]$. See also [`RoundNearest`](@ref).\n",
       "  * if `r == RoundToZero` (default), then the result is exact, and in the interval $[0, |y|)$ if `x` is positive, or $(-|y|, 0]$ otherwise. See also [`RoundToZero`](@ref).\n",
       "  * if `r == RoundDown`, then the result is in the interval $[0, y)$ if `y` is positive, or $(y, 0]$ otherwise. The result may not be exact if `x` and `y` have different signs, and `abs(x) < abs(y)`. See also[`RoundDown`](@ref).\n",
       "  * if `r == RoundUp`, then the result is in the interval `(-y,0]` if `y` is positive, or `[0,-y)` otherwise. The result may not be exact if `x` and `y` have the same sign, and `abs(x) < abs(y)`. See also [`RoundUp`](@ref).\n"
      ],
      "text/plain": [
       "\u001b[36m  rem(x::Integer, T::Type{<:Integer}) -> T\u001b[39m\n",
       "\u001b[36m  mod(x::Integer, T::Type{<:Integer}) -> T\u001b[39m\n",
       "\u001b[36m  %(x::Integer, T::Type{<:Integer}) -> T\u001b[39m\n",
       "\n",
       "  Find \u001b[36my::T\u001b[39m such that \u001b[36mx\u001b[39m ≡ \u001b[36my\u001b[39m (mod n), where n is the number of integers\n",
       "  representable in \u001b[36mT\u001b[39m, and \u001b[36my\u001b[39m is an integer in \u001b[36m[typemin(T),typemax(T)]\u001b[39m. If \u001b[36mT\u001b[39m can\n",
       "  represent any integer (e.g. \u001b[36mT == BigInt\u001b[39m), then this operation corresponds to\n",
       "  a conversion to \u001b[36mT\u001b[39m.\n",
       "\n",
       "\u001b[1m  Examples\u001b[22m\n",
       "\u001b[1m  ≡≡≡≡≡≡≡≡≡≡\u001b[22m\n",
       "\n",
       "\u001b[36m  julia> 129 % Int8\u001b[39m\n",
       "\u001b[36m  -127\u001b[39m\n",
       "\n",
       "  ────────────────────────────────────────────────────────────────────────────\n",
       "\n",
       "\u001b[36m  rem(x, y)\u001b[39m\n",
       "\u001b[36m  %(x, y)\u001b[39m\n",
       "\n",
       "  Remainder from Euclidean division, returning a value of the same sign as \u001b[36mx\u001b[39m,\n",
       "  and smaller in magnitude than \u001b[36my\u001b[39m. This value is always exact.\n",
       "\n",
       "\u001b[1m  Examples\u001b[22m\n",
       "\u001b[1m  ≡≡≡≡≡≡≡≡≡≡\u001b[22m\n",
       "\n",
       "\u001b[36m  julia> x = 15; y = 4;\u001b[39m\n",
       "\u001b[36m  \u001b[39m\n",
       "\u001b[36m  julia> x % y\u001b[39m\n",
       "\u001b[36m  3\u001b[39m\n",
       "\u001b[36m  \u001b[39m\n",
       "\u001b[36m  julia> x == div(x, y) * y + rem(x, y)\u001b[39m\n",
       "\u001b[36m  true\u001b[39m\n",
       "\n",
       "  ────────────────────────────────────────────────────────────────────────────\n",
       "\n",
       "\u001b[36m  rem(x, y, r::RoundingMode)\u001b[39m\n",
       "\n",
       "  Compute the remainder of \u001b[36mx\u001b[39m after integer division by \u001b[36my\u001b[39m, with the quotient\n",
       "  rounded according to the rounding mode \u001b[36mr\u001b[39m. In other words, the quantity\n",
       "\n",
       "\u001b[36m  x - y*round(x/y,r)\u001b[39m\n",
       "\n",
       "  without any intermediate rounding.\n",
       "\n",
       "    •    if \u001b[36mr == RoundNearest\u001b[39m, then the result is exact, and in the\n",
       "        interval \u001b[35m[-|y|/2, |y|/2]\u001b[39m. See also \u001b[36mRoundNearest\u001b[39m.\n",
       "\n",
       "    •    if \u001b[36mr == RoundToZero\u001b[39m (default), then the result is exact, and in\n",
       "        the interval \u001b[35m[0, |y|)\u001b[39m if \u001b[36mx\u001b[39m is positive, or \u001b[35m(-|y|, 0]\u001b[39m otherwise.\n",
       "        See also \u001b[36mRoundToZero\u001b[39m.\n",
       "\n",
       "    •    if \u001b[36mr == RoundDown\u001b[39m, then the result is in the interval \u001b[35m[0, y)\u001b[39m if \u001b[36my\u001b[39m\n",
       "        is positive, or \u001b[35m(y, 0]\u001b[39m otherwise. The result may not be exact if \u001b[36mx\u001b[39m\n",
       "        and \u001b[36my\u001b[39m have different signs, and \u001b[36mabs(x) < abs(y)\u001b[39m. See\n",
       "        also\u001b[36mRoundDown\u001b[39m.\n",
       "\n",
       "    •    if \u001b[36mr == RoundUp\u001b[39m, then the result is in the interval \u001b[36m(-y,0]\u001b[39m if \u001b[36my\u001b[39m is\n",
       "        positive, or \u001b[36m[0,-y)\u001b[39m otherwise. The result may not be exact if \u001b[36mx\u001b[39m\n",
       "        and \u001b[36my\u001b[39m have the same sign, and \u001b[36mabs(x) < abs(y)\u001b[39m. See also \u001b[36mRoundUp\u001b[39m."
      ]
     },
     "execution_count": 13,
     "metadata": {},
     "output_type": "execute_result"
    }
   ],
   "source": [
    "?rem"
   ]
  },
  {
   "cell_type": "code",
   "execution_count": 14,
   "metadata": {},
   "outputs": [
    {
     "data": {
      "text/plain": [
       "3"
      ]
     },
     "execution_count": 14,
     "metadata": {},
     "output_type": "execute_result"
    }
   ],
   "source": [
    "rem(15, 4)"
   ]
  },
  {
   "cell_type": "code",
   "execution_count": 15,
   "metadata": {},
   "outputs": [
    {
     "data": {
      "text/plain": [
       "3"
      ]
     },
     "execution_count": 15,
     "metadata": {},
     "output_type": "execute_result"
    }
   ],
   "source": [
    "15 % 4"
   ]
  },
  {
   "cell_type": "code",
   "execution_count": 16,
   "metadata": {},
   "outputs": [
    {
     "name": "stdout",
     "output_type": "stream",
     "text": [
      "search: \u001b[0m\u001b[1md\u001b[22m\u001b[0m\u001b[1mi\u001b[22m\u001b[0m\u001b[1mg\u001b[22m\u001b[0m\u001b[1mi\u001b[22m\u001b[0m\u001b[1mt\u001b[22m\u001b[0m\u001b[1ms\u001b[22m\u001b[0m\u001b[1m!\u001b[22m \u001b[0m\u001b[1md\u001b[22m\u001b[0m\u001b[1mi\u001b[22m\u001b[0m\u001b[1mg\u001b[22m\u001b[0m\u001b[1mi\u001b[22m\u001b[0m\u001b[1mt\u001b[22m\u001b[0m\u001b[1ms\u001b[22m n\u001b[0m\u001b[1md\u001b[22m\u001b[0m\u001b[1mi\u001b[22m\u001b[0m\u001b[1mg\u001b[22m\u001b[0m\u001b[1mi\u001b[22m\u001b[0m\u001b[1mt\u001b[22m\u001b[0m\u001b[1ms\u001b[22m is\u001b[0m\u001b[1md\u001b[22m\u001b[0m\u001b[1mi\u001b[22m\u001b[0m\u001b[1mg\u001b[22m\u001b[0m\u001b[1mi\u001b[22m\u001b[0m\u001b[1mt\u001b[22m isx\u001b[0m\u001b[1md\u001b[22m\u001b[0m\u001b[1mi\u001b[22m\u001b[0m\u001b[1mg\u001b[22m\u001b[0m\u001b[1mi\u001b[22m\u001b[0m\u001b[1mt\u001b[22m \u001b[0m\u001b[1md\u001b[22m\u001b[0m\u001b[1mi\u001b[22msable_si\u001b[0m\u001b[1mg\u001b[22m\u001b[0m\u001b[1mi\u001b[22mn\u001b[0m\u001b[1mt\u001b[22m\n",
      "\n"
     ]
    },
    {
     "data": {
      "text/latex": [
       "\\begin{verbatim}\n",
       "digits!(array, n::Integer; base::Integer = 10)\n",
       "\\end{verbatim}\n",
       "Fills an array of the digits of \\texttt{n} in the given base. More significant digits are at higher indices. If the array length is insufficient, the least significant digits are filled up to the array length. If the array length is excessive, the excess portion is filled with zeros.\n",
       "\n",
       "\\section{Examples}\n",
       "\\begin{verbatim}\n",
       "julia> digits!([2,2,2,2], 10, base = 2)\n",
       "4-element Array{Int64,1}:\n",
       " 0\n",
       " 1\n",
       " 0\n",
       " 1\n",
       "\n",
       "julia> digits!([2,2,2,2,2,2], 10, base = 2)\n",
       "6-element Array{Int64,1}:\n",
       " 0\n",
       " 1\n",
       " 0\n",
       " 1\n",
       " 0\n",
       " 0\n",
       "\\end{verbatim}\n"
      ],
      "text/markdown": [
       "```\n",
       "digits!(array, n::Integer; base::Integer = 10)\n",
       "```\n",
       "\n",
       "Fills an array of the digits of `n` in the given base. More significant digits are at higher indices. If the array length is insufficient, the least significant digits are filled up to the array length. If the array length is excessive, the excess portion is filled with zeros.\n",
       "\n",
       "# Examples\n",
       "\n",
       "```jldoctest\n",
       "julia> digits!([2,2,2,2], 10, base = 2)\n",
       "4-element Array{Int64,1}:\n",
       " 0\n",
       " 1\n",
       " 0\n",
       " 1\n",
       "\n",
       "julia> digits!([2,2,2,2,2,2], 10, base = 2)\n",
       "6-element Array{Int64,1}:\n",
       " 0\n",
       " 1\n",
       " 0\n",
       " 1\n",
       " 0\n",
       " 0\n",
       "```\n"
      ],
      "text/plain": [
       "\u001b[36m  digits!(array, n::Integer; base::Integer = 10)\u001b[39m\n",
       "\n",
       "  Fills an array of the digits of \u001b[36mn\u001b[39m in the given base. More significant digits\n",
       "  are at higher indices. If the array length is insufficient, the least\n",
       "  significant digits are filled up to the array length. If the array length is\n",
       "  excessive, the excess portion is filled with zeros.\n",
       "\n",
       "\u001b[1m  Examples\u001b[22m\n",
       "\u001b[1m  ≡≡≡≡≡≡≡≡≡≡\u001b[22m\n",
       "\n",
       "\u001b[36m  julia> digits!([2,2,2,2], 10, base = 2)\u001b[39m\n",
       "\u001b[36m  4-element Array{Int64,1}:\u001b[39m\n",
       "\u001b[36m   0\u001b[39m\n",
       "\u001b[36m   1\u001b[39m\n",
       "\u001b[36m   0\u001b[39m\n",
       "\u001b[36m   1\u001b[39m\n",
       "\u001b[36m  \u001b[39m\n",
       "\u001b[36m  julia> digits!([2,2,2,2,2,2], 10, base = 2)\u001b[39m\n",
       "\u001b[36m  6-element Array{Int64,1}:\u001b[39m\n",
       "\u001b[36m   0\u001b[39m\n",
       "\u001b[36m   1\u001b[39m\n",
       "\u001b[36m   0\u001b[39m\n",
       "\u001b[36m   1\u001b[39m\n",
       "\u001b[36m   0\u001b[39m\n",
       "\u001b[36m   0\u001b[39m"
      ]
     },
     "execution_count": 16,
     "metadata": {},
     "output_type": "execute_result"
    }
   ],
   "source": [
    "?digits!"
   ]
  },
  {
   "cell_type": "code",
   "execution_count": 17,
   "metadata": {},
   "outputs": [
    {
     "data": {
      "text/plain": [
       "1-element Array{Int64,1}:\n",
       " 1"
      ]
     },
     "execution_count": 17,
     "metadata": {},
     "output_type": "execute_result"
    }
   ],
   "source": [
    "digits!([2],3, base = 2)"
   ]
  },
  {
   "cell_type": "code",
   "execution_count": 18,
   "metadata": {},
   "outputs": [
    {
     "data": {
      "text/html": [
       "12 methods for generic function <b>muladd</b>:<ul><li> muladd(a::<b>Float16</b>, b::<b>Float16</b>, c::<b>Float16</b>) in Base at <a href=\"https://github.com/JuliaLang/julia/tree/099e826241fca365a120df9bac9a9fede6e7bae4/base/float.jl#L406\" target=\"_blank\">float.jl:406</a></li> <li> muladd(x::<b>Float64</b>, y::<b>Float64</b>, z::<b>Float64</b>) in Base at <a href=\"https://github.com/JuliaLang/julia/tree/099e826241fca365a120df9bac9a9fede6e7bae4/base/float.jl#L404\" target=\"_blank\">float.jl:404</a></li> <li> muladd(x::<b>Float32</b>, y::<b>Float32</b>, z::<b>Float32</b>) in Base at <a href=\"https://github.com/JuliaLang/julia/tree/099e826241fca365a120df9bac9a9fede6e7bae4/base/float.jl#L403\" target=\"_blank\">float.jl:403</a></li> <li> muladd(z::<b>Complex</b>, w::<b>Complex</b>, x::<b>Complex</b>) in Base at <a href=\"https://github.com/JuliaLang/julia/tree/099e826241fca365a120df9bac9a9fede6e7bae4/base/complex.jl#L271\" target=\"_blank\">complex.jl:271</a></li> <li> muladd(x::<b>Real</b>, z::<b>Complex</b>, y::<b>Number</b>) in Base at <a href=\"https://github.com/JuliaLang/julia/tree/099e826241fca365a120df9bac9a9fede6e7bae4/base/complex.jl#L314\" target=\"_blank\">complex.jl:314</a></li> <li> muladd(z::<b>Complex</b>, x::<b>Real</b>, y::<b>Real</b>) in Base at <a href=\"https://github.com/JuliaLang/julia/tree/099e826241fca365a120df9bac9a9fede6e7bae4/base/complex.jl#L315\" target=\"_blank\">complex.jl:315</a></li> <li> muladd(z::<b>Complex</b>, x::<b>Real</b>, w::<b>Complex</b>) in Base at <a href=\"https://github.com/JuliaLang/julia/tree/099e826241fca365a120df9bac9a9fede6e7bae4/base/complex.jl#L316\" target=\"_blank\">complex.jl:316</a></li> <li> muladd(x::<b>Real</b>, y::<b>Real</b>, z::<b>Complex</b>) in Base at <a href=\"https://github.com/JuliaLang/julia/tree/099e826241fca365a120df9bac9a9fede6e7bae4/base/complex.jl#L318\" target=\"_blank\">complex.jl:318</a></li> <li> muladd(z::<b>Complex</b>, w::<b>Complex</b>, x::<b>Real</b>) in Base at <a href=\"https://github.com/JuliaLang/julia/tree/099e826241fca365a120df9bac9a9fede6e7bae4/base/complex.jl#L319\" target=\"_blank\">complex.jl:319</a></li> <li> muladd<i>{T<:Number}</i>(x::<b>T</b>, y::<b>T</b>, z::<b>T</b>) in Base at <a href=\"https://github.com/JuliaLang/julia/tree/099e826241fca365a120df9bac9a9fede6e7bae4/base/promotion.jl#L419\" target=\"_blank\">promotion.jl:419</a></li> <li> muladd(x::<b>Number</b>, y::<b>Number</b>, z::<b>Number</b>) in Base at <a href=\"https://github.com/JuliaLang/julia/tree/099e826241fca365a120df9bac9a9fede6e7bae4/base/promotion.jl#L348\" target=\"_blank\">promotion.jl:348</a></li> <li> muladd(x, y, z) in Base.Math at <a href=\"https://github.com/JuliaLang/julia/tree/099e826241fca365a120df9bac9a9fede6e7bae4/base/math.jl#L1011\" target=\"_blank\">math.jl:1011</a></li> </ul>"
      ],
      "text/plain": [
       "# 12 methods for generic function \"muladd\":\n",
       "[1] muladd(a::Float16, b::Float16, c::Float16) in Base at float.jl:406\n",
       "[2] muladd(x::Float64, y::Float64, z::Float64) in Base at float.jl:404\n",
       "[3] muladd(x::Float32, y::Float32, z::Float32) in Base at float.jl:403\n",
       "[4] muladd(z::Complex, w::Complex, x::Complex) in Base at complex.jl:271\n",
       "[5] muladd(x::Real, z::Complex, y::Number) in Base at complex.jl:314\n",
       "[6] muladd(z::Complex, x::Real, y::Real) in Base at complex.jl:315\n",
       "[7] muladd(z::Complex, x::Real, w::Complex) in Base at complex.jl:316\n",
       "[8] muladd(x::Real, y::Real, z::Complex) in Base at complex.jl:318\n",
       "[9] muladd(z::Complex, w::Complex, x::Real) in Base at complex.jl:319\n",
       "[10] muladd(x::T, y::T, z::T) where T<:Number in Base at promotion.jl:419\n",
       "[11] muladd(x::Number, y::Number, z::Number) in Base at promotion.jl:348\n",
       "[12] muladd(x, y, z) in Base.Math at math.jl:1011"
      ]
     },
     "execution_count": 18,
     "metadata": {},
     "output_type": "execute_result"
    }
   ],
   "source": [
    "methods(muladd)"
   ]
  },
  {
   "cell_type": "code",
   "execution_count": 19,
   "metadata": {},
   "outputs": [
    {
     "data": {
      "text/html": [
       "12 methods for generic function <b>cos</b>:<ul><li> cos(x::<b>BigFloat</b>) in Base.MPFR at <a href=\"https://github.com/JuliaLang/julia/tree/099e826241fca365a120df9bac9a9fede6e7bae4/base/mpfr.jl#L683\" target=\"_blank\">mpfr.jl:683</a></li> <li> cos(::<b>Missing</b>) in Base.Math at <a href=\"https://github.com/JuliaLang/julia/tree/099e826241fca365a120df9bac9a9fede6e7bae4/base/math.jl#L1070\" target=\"_blank\">math.jl:1070</a></li> <li> cos(a::<b>Complex{Float16}</b>) in Base.Math at <a href=\"https://github.com/JuliaLang/julia/tree/099e826241fca365a120df9bac9a9fede6e7bae4/base/math.jl#L1019\" target=\"_blank\">math.jl:1019</a></li> <li> cos(a::<b>Float16</b>) in Base.Math at <a href=\"https://github.com/JuliaLang/julia/tree/099e826241fca365a120df9bac9a9fede6e7bae4/base/math.jl#L1018\" target=\"_blank\">math.jl:1018</a></li> <li> cos<i>{T}</i>(z::<b>Complex{T}</b>) in Base at <a href=\"https://github.com/JuliaLang/julia/tree/099e826241fca365a120df9bac9a9fede6e7bae4/base/complex.jl#L778\" target=\"_blank\">complex.jl:778</a></li> <li> cos<i>{T<:Union{Float32, Float64}}</i>(x::<b>T</b>) in Base.Math at <a href=\"https://github.com/JuliaLang/julia/tree/099e826241fca365a120df9bac9a9fede6e7bae4/base/special/trig.jl#L100\" target=\"_blank\">special/trig.jl:100</a></li> <li> cos(x::<b>Real</b>) in Base.Math at <a href=\"https://github.com/JuliaLang/julia/tree/099e826241fca365a120df9bac9a9fede6e7bae4/base/special/trig.jl#L124\" target=\"_blank\">special/trig.jl:124</a></li> <li> cos(A::<b>LinearAlgebra.Hermitian{#s575,S} where S<:(AbstractArray{#s576,2} where #s576<:#s575) where #s575<:Complex</b>) in LinearAlgebra at <a href=\"file:///buildworker/worker/package_linux64/build/usr/share/julia/stdlib/v1.0/LinearAlgebra/src/symmetric.jl\" target=\"_blank\">/buildworker/worker/package_linux64/build/usr/share/julia/stdlib/v1.0/LinearAlgebra/src/symmetric.jl:720</a></li> <li> cos(A::<b>Union{Hermitian{#s576,S}, Symmetric{#s576,S}} where S where #s576<:Real</b>) in LinearAlgebra at <a href=\"file:///buildworker/worker/package_linux64/build/usr/share/julia/stdlib/v1.0/LinearAlgebra/src/symmetric.jl\" target=\"_blank\">/buildworker/worker/package_linux64/build/usr/share/julia/stdlib/v1.0/LinearAlgebra/src/symmetric.jl:716</a></li> <li> cos(D::<b>LinearAlgebra.Diagonal</b>) in LinearAlgebra at <a href=\"file:///buildworker/worker/package_linux64/build/usr/share/julia/stdlib/v1.0/LinearAlgebra/src/diagonal.jl\" target=\"_blank\">/buildworker/worker/package_linux64/build/usr/share/julia/stdlib/v1.0/LinearAlgebra/src/diagonal.jl:424</a></li> <li> cos(A::<b>AbstractArray{#s576,2} where #s576<:Real</b>) in LinearAlgebra at <a href=\"file:///buildworker/worker/package_linux64/build/usr/share/julia/stdlib/v1.0/LinearAlgebra/src/dense.jl\" target=\"_blank\">/buildworker/worker/package_linux64/build/usr/share/julia/stdlib/v1.0/LinearAlgebra/src/dense.jl:737</a></li> <li> cos(A::<b>AbstractArray{#s576,2} where #s576<:Complex</b>) in LinearAlgebra at <a href=\"file:///buildworker/worker/package_linux64/build/usr/share/julia/stdlib/v1.0/LinearAlgebra/src/dense.jl\" target=\"_blank\">/buildworker/worker/package_linux64/build/usr/share/julia/stdlib/v1.0/LinearAlgebra/src/dense.jl:744</a></li> </ul>"
      ],
      "text/plain": [
       "# 12 methods for generic function \"cos\":\n",
       "[1] cos(x::BigFloat) in Base.MPFR at mpfr.jl:683\n",
       "[2] cos(::Missing) in Base.Math at math.jl:1070\n",
       "[3] cos(a::Complex{Float16}) in Base.Math at math.jl:1019\n",
       "[4] cos(a::Float16) in Base.Math at math.jl:1018\n",
       "[5] cos(z::Complex{T}) where T in Base at complex.jl:778\n",
       "[6] cos(x::T) where T<:Union{Float32, Float64} in Base.Math at special/trig.jl:100\n",
       "[7] cos(x::Real) in Base.Math at special/trig.jl:124\n",
       "[8] cos(A::LinearAlgebra.Hermitian{#s575,S} where S<:(AbstractArray{#s576,2} where #s576<:#s575) where #s575<:Complex) in LinearAlgebra at /buildworker/worker/package_linux64/build/usr/share/julia/stdlib/v1.0/LinearAlgebra/src/symmetric.jl:720\n",
       "[9] cos(A::Union{Hermitian{#s576,S}, Symmetric{#s576,S}} where S where #s576<:Real) in LinearAlgebra at /buildworker/worker/package_linux64/build/usr/share/julia/stdlib/v1.0/LinearAlgebra/src/symmetric.jl:716\n",
       "[10] cos(D::LinearAlgebra.Diagonal) in LinearAlgebra at /buildworker/worker/package_linux64/build/usr/share/julia/stdlib/v1.0/LinearAlgebra/src/diagonal.jl:424\n",
       "[11] cos(A::AbstractArray{#s576,2} where #s576<:Real) in LinearAlgebra at /buildworker/worker/package_linux64/build/usr/share/julia/stdlib/v1.0/LinearAlgebra/src/dense.jl:737\n",
       "[12] cos(A::AbstractArray{#s576,2} where #s576<:Complex) in LinearAlgebra at /buildworker/worker/package_linux64/build/usr/share/julia/stdlib/v1.0/LinearAlgebra/src/dense.jl:744"
      ]
     },
     "execution_count": 19,
     "metadata": {},
     "output_type": "execute_result"
    }
   ],
   "source": [
    "methods(cos)"
   ]
  },
  {
   "cell_type": "code",
   "execution_count": null,
   "metadata": {},
   "outputs": [],
   "source": []
  }
 ],
 "metadata": {
  "kernelspec": {
   "display_name": "Python 3",
   "language": "python",
   "name": "python3"
  },
  "language_info": {
   "codemirror_mode": {
    "name": "ipython",
    "version": 3
   },
   "file_extension": ".py",
   "mimetype": "text/x-python",
   "name": "python",
   "nbconvert_exporter": "python",
   "pygments_lexer": "ipython3",
   "version": "3.6.4"
  }
 },
 "nbformat": 4,
 "nbformat_minor": 2
}
