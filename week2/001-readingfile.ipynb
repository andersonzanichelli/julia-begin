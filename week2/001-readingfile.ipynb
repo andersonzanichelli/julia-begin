{
 "cells": [
  {
   "cell_type": "markdown",
   "metadata": {},
   "source": [
    "# Reading file"
   ]
  },
  {
   "cell_type": "code",
   "execution_count": null,
   "metadata": {},
   "outputs": [],
   "source": [
    "#using Pkg\n",
    "#Pkg.add(\"CSV\")"
   ]
  },
  {
   "cell_type": "code",
   "execution_count": 1,
   "metadata": {},
   "outputs": [
    {
     "name": "stderr",
     "output_type": "stream",
     "text": [
      "┌ Info: Recompiling stale cache file /home/anderson.zanichelli/.julia/compiled/v1.0/CSV/HHBkp.ji for CSV [336ed68f-0bac-5ca0-87d4-7b16caf5d00b]\n",
      "└ @ Base loading.jl:1190\n"
     ]
    },
    {
     "data": {
      "text/html": [
       "<table class=\"data-frame\"><thead><tr><th></th><th>Country</th><th>Age group</th><th>Gender</th><th>Ebola measure</th><th>Case definition</th><th>Indicator type</th><th>Data package ID</th><th>Data as of</th><th>Outbreak identifier</th><th>Display Value</th><th>Numeric</th><th>Low</th><th>High</th><th>Comments</th></tr><tr><th></th><th>String⍰</th><th>String⍰</th><th>String⍰</th><th>String⍰</th><th>String⍰</th><th>String⍰</th><th>String⍰</th><th>String⍰</th><th>String⍰</th><th>String⍰</th><th>Float64⍰</th><th>Missing</th><th>Missing</th><th>String⍰</th></tr></thead><tbody><p>104 rows × 14 columns</p><tr><th>1</th><td>Guinea</td><td>All ages (total)</td><td>Female</td><td>Number of cases</td><td>Confirmed</td><td>Cumulative</td><td>Data package 2016-05-11</td><td>missing</td><td>missing</td><td>1747</td><td>1747.0</td><td>missing</td><td>missing</td><td>missing</td></tr><tr><th>2</th><td>Sierra Leone</td><td>45+</td><td>Both sexes</td><td>Number of cases</td><td>Confirmed</td><td>Cumulative</td><td>Data package 2016-05-11</td><td>missing</td><td>missing</td><td>2140</td><td>2140.0</td><td>missing</td><td>missing</td><td>missing</td></tr><tr><th>3</th><td>Guinea</td><td>15-44</td><td>Both sexes</td><td>Number of cases</td><td>Confirmed</td><td>Cumulative</td><td>Data package 2016-05-11</td><td>missing</td><td>missing</td><td>1904</td><td>1904.0</td><td>missing</td><td>missing</td><td>missing</td></tr><tr><th>4</th><td>All countries</td><td>missing</td><td>missing</td><td>Number of deaths</td><td>Total</td><td>Cumulative</td><td>Data package 2016-05-11</td><td>missing</td><td>missing</td><td>11 310</td><td>11310.0</td><td>missing</td><td>missing</td><td>This total only includes Guinea, Liberia and Sierra Leone. </td></tr><tr><th>5</th><td>Sierra Leone</td><td>missing</td><td>missing</td><td>Number of cases</td><td>Confirmed</td><td>Cumulative</td><td>Data package 2016-05-11</td><td>17 March 2016</td><td>EVD Sierra Leone 2015</td><td>2</td><td>2.0</td><td>missing</td><td>missing</td><td>Cases and deaths reported after 7 November 2015. </td></tr><tr><th>6</th><td>Sierra Leone</td><td>missing</td><td>missing</td><td>Number of deaths</td><td>Suspected</td><td>Cumulative</td><td>Data package 2016-05-11</td><td>7 November 2015</td><td>EVD West Africa 2014</td><td>158</td><td>158.0</td><td>missing</td><td>missing</td><td>The outbreak in Sierra Leone was declared over on 7 November 2015. Due to ongoing surveillance and retrospective validation of cases and deaths, these totals may be subject to revision.</td></tr><tr><th>7</th><td>Sierra Leone</td><td>missing</td><td>missing</td><td>Number of cases</td><td>Probable</td><td>In past 21 days</td><td>Data package 2016-05-11</td><td>7 November 2015</td><td>EVD West Africa 2014</td><td>-</td><td>missing</td><td>missing</td><td>missing</td><td>Not applicable. </td></tr><tr><th>8</th><td>Sierra Leone</td><td>missing</td><td>missing</td><td>Number of cases</td><td>Total</td><td>Cumulative</td><td>Data package 2016-05-11</td><td>7 November 2015</td><td>EVD West Africa 2014</td><td>14 122</td><td>14122.0</td><td>missing</td><td>missing</td><td>The outbreak in Sierra Leone was declared over on 7 November 2015. Due to ongoing surveillance and retrospective validation of cases and deaths, these totals may be subject to revision.</td></tr><tr><th>9</th><td>Liberia</td><td>missing</td><td>missing</td><td>Number of cases</td><td>Confirmed</td><td>In past 21 days</td><td>Data package 2016-05-11</td><td>9 May 2015</td><td>EVD West Africa 2014</td><td>-</td><td>missing</td><td>missing</td><td>missing</td><td>Not applicable.</td></tr><tr><th>10</th><td>Liberia</td><td>missing</td><td>missing</td><td>Number of cases</td><td>Suspected</td><td>Cumulative</td><td>Data package 2016-05-11</td><td>9 May 2015</td><td>EVD West Africa 2014</td><td>5636</td><td>5636.0</td><td>missing</td><td>missing</td><td>The outbreak in Liberia was declared over on 9 May 2015. Due to ongoing surveillance and retrospective validation of cases and deaths, these totals may be subject to revision.</td></tr><tr><th>11</th><td>Guinea</td><td>missing</td><td>missing</td><td>Number of cases</td><td>Total</td><td>In past 21 days</td><td>Data package 2016-05-11</td><td>8 May 2016</td><td>EVD Guinea 2016</td><td>0</td><td>0.0</td><td>missing</td><td>missing</td><td>Cases and deaths reported after 28 December 2015. </td></tr><tr><th>12</th><td>Guinea</td><td>missing</td><td>missing</td><td>Number of cases</td><td>Probable</td><td>In past 21 days</td><td>Data package 2016-05-11</td><td>8 May 2016</td><td>EVD Guinea 2016</td><td>0</td><td>0.0</td><td>missing</td><td>missing</td><td>Cases and deaths reported after 28 December 2015. </td></tr><tr><th>13</th><td>Sierra Leone</td><td>All ages (total)</td><td>Female</td><td>Number of cases</td><td>Confirmed</td><td>Cumulative</td><td>Data package 2016-05-11</td><td>missing</td><td>missing</td><td>5118</td><td>5118.0</td><td>missing</td><td>missing</td><td>missing</td></tr><tr><th>14</th><td>Liberia</td><td>All ages (total)</td><td>Female</td><td>Number of cases</td><td>Confirmed</td><td>Cumulative</td><td>Data package 2016-05-11</td><td>missing</td><td>missing</td><td>1838</td><td>1838.0</td><td>missing</td><td>missing</td><td>Data are until 9 May.</td></tr><tr><th>15</th><td>All countries</td><td>missing</td><td>missing</td><td>Number of deaths</td><td>Probable</td><td>Cumulative</td><td>Data package 2016-05-11</td><td>missing</td><td>missing</td><td>Data not available.</td><td>missing</td><td>missing</td><td>missing</td><td>Data not available.</td></tr><tr><th>16</th><td>All countries</td><td>missing</td><td>missing</td><td>Number of cases</td><td>Total</td><td>In past 21 days</td><td>Data package 2016-05-11</td><td>missing</td><td>missing</td><td>0</td><td>0.0</td><td>missing</td><td>missing</td><td>This total only includes Guinea, Liberia and Sierra Leone. </td></tr><tr><th>17</th><td>Sierra Leone</td><td>missing</td><td>missing</td><td>Number of cases</td><td>Confirmed</td><td>In past 21 days</td><td>Data package 2016-05-11</td><td>17 March 2016</td><td>EVD Sierra Leone 2015</td><td>-</td><td>missing</td><td>missing</td><td>missing</td><td>Cases and deaths reported after 7 November 2015. </td></tr><tr><th>18</th><td>Sierra Leone</td><td>missing</td><td>missing</td><td>Number of cases</td><td>Suspected</td><td>Cumulative</td><td>Data package 2016-05-11</td><td>17 March 2016</td><td>EVD Sierra Leone 2015</td><td>Not reported.</td><td>missing</td><td>missing</td><td>missing</td><td>Not reported due to the high proportion of probable and suspected cases that are reclassified.</td></tr><tr><th>19</th><td>Sierra Leone</td><td>missing</td><td>missing</td><td>Number of cases</td><td>Probable</td><td>Cumulative</td><td>Data package 2016-05-11</td><td>7 November 2015</td><td>EVD West Africa 2014</td><td>287</td><td>287.0</td><td>missing</td><td>missing</td><td>The outbreak in Sierra Leone was declared over on 7 November 2015. Due to ongoing surveillance and retrospective validation of cases and deaths, these totals may be subject to revision.</td></tr><tr><th>20</th><td>Liberia</td><td>missing</td><td>missing</td><td>Number of deaths</td><td>Total</td><td>Cumulative</td><td>Data package 2016-05-11</td><td>8 May 2016</td><td>EVD Liberia 2015</td><td>4</td><td>4.0</td><td>missing</td><td>missing</td><td>Cases and deaths reported after 9 May 2015. </td></tr><tr><th>21</th><td>Liberia</td><td>missing</td><td>missing</td><td>Number of deaths</td><td>Confirmed</td><td>Cumulative</td><td>Data package 2016-05-11</td><td>9 May 2015</td><td>EVD West Africa 2014</td><td>Data not available.</td><td>missing</td><td>missing</td><td>missing</td><td>Data not available.</td></tr><tr><th>22</th><td>Liberia</td><td>missing</td><td>missing</td><td>Number of cases</td><td>Suspected</td><td>In past 21 days</td><td>Data package 2016-05-11</td><td>9 May 2015</td><td>EVD West Africa 2014</td><td>-</td><td>missing</td><td>missing</td><td>missing</td><td>Not applicable.</td></tr><tr><th>23</th><td>Guinea</td><td>missing</td><td>missing</td><td>Number of cases</td><td>Total</td><td>Cumulative</td><td>Data package 2016-05-11</td><td>8 May 2016</td><td>EVD Guinea 2016</td><td>10</td><td>10.0</td><td>missing</td><td>missing</td><td>Cases and deaths reported after 28 December 2015. </td></tr><tr><th>24</th><td>Guinea</td><td>missing</td><td>missing</td><td>Number of cases</td><td>Probable</td><td>Cumulative</td><td>Data package 2016-05-11</td><td>8 May 2016</td><td>EVD Guinea 2016</td><td>3</td><td>3.0</td><td>missing</td><td>missing</td><td>Cases and deaths reported after 28 December 2015. </td></tr><tr><th>25</th><td>All countries</td><td>All ages (total)</td><td>Female</td><td>Number of cases</td><td>Confirmed</td><td>Cumulative</td><td>Data package 2016-05-11</td><td>missing</td><td>missing</td><td>8703</td><td>8703.0</td><td>missing</td><td>missing</td><td>Total for Liberia, Sierra Leone, and Guinea where sex is known but age may not be known. Cases per capita are available in the WHO external situation report.</td></tr><tr><th>26</th><td>Sierra Leone</td><td>All ages (total)</td><td>Male</td><td>Number of cases</td><td>Confirmed</td><td>Cumulative</td><td>Data package 2016-05-11</td><td>missing</td><td>missing</td><td>4823</td><td>4823.0</td><td>missing</td><td>missing</td><td>missing</td></tr><tr><th>27</th><td>All countries</td><td>missing</td><td>missing</td><td>Number of deaths</td><td>Suspected</td><td>Cumulative</td><td>Data package 2016-05-11</td><td>missing</td><td>missing</td><td>Data not available.</td><td>missing</td><td>missing</td><td>missing</td><td>Data not available.</td></tr><tr><th>28</th><td>All countries</td><td>missing</td><td>missing</td><td>Number of deaths</td><td>Confirmed</td><td>Cumulative</td><td>Data package 2016-05-11</td><td>missing</td><td>missing</td><td>Data not available.</td><td>missing</td><td>missing</td><td>missing</td><td>Data not available.</td></tr><tr><th>29</th><td>Sierra Leone</td><td>missing</td><td>missing</td><td>Number of cases</td><td>Probable</td><td>In past 21 days</td><td>Data package 2016-05-11</td><td>17 March 2016</td><td>EVD Sierra Leone 2015</td><td>Not reported.</td><td>missing</td><td>missing</td><td>missing</td><td>Not reported due to the high proportion of probable and suspected cases that are reclassified.</td></tr><tr><th>30</th><td>Sierra Leone</td><td>missing</td><td>missing</td><td>Number of cases</td><td>Total</td><td>Cumulative</td><td>Data package 2016-05-11</td><td>17 March 2016</td><td>EVD Sierra Leone 2015</td><td>2</td><td>2.0</td><td>missing</td><td>missing</td><td>Cases and deaths reported after 7 November 2015. </td></tr><tr><th>&vellip;</th><td>&vellip;</td><td>&vellip;</td><td>&vellip;</td><td>&vellip;</td><td>&vellip;</td><td>&vellip;</td><td>&vellip;</td><td>&vellip;</td><td>&vellip;</td><td>&vellip;</td><td>&vellip;</td><td>&vellip;</td><td>&vellip;</td><td>&vellip;</td></tr></tbody></table>"
      ],
      "text/latex": [
       "\\begin{tabular}{r|cccccccccccccc}\n",
       "\t& Country & Age group & Gender & Ebola measure & Case definition & Indicator type & Data package ID & Data as of & Outbreak identifier & Display Value & Numeric & Low & High & Comments\\\\\n",
       "\t\\hline\n",
       "\t& String⍰ & String⍰ & String⍰ & String⍰ & String⍰ & String⍰ & String⍰ & String⍰ & String⍰ & String⍰ & Float64⍰ & Missing & Missing & String⍰\\\\\n",
       "\t\\hline\n",
       "\t1 & Guinea & All ages (total) & Female & Number of cases & Confirmed & Cumulative & Data package 2016-05-11 &  &  & 1747 & 1747.0 &  &  &  \\\\\n",
       "\t2 & Sierra Leone & 45+ & Both sexes & Number of cases & Confirmed & Cumulative & Data package 2016-05-11 &  &  & 2140 & 2140.0 &  &  &  \\\\\n",
       "\t3 & Guinea & 15-44 & Both sexes & Number of cases & Confirmed & Cumulative & Data package 2016-05-11 &  &  & 1904 & 1904.0 &  &  &  \\\\\n",
       "\t4 & All countries &  &  & Number of deaths & Total & Cumulative & Data package 2016-05-11 &  &  & 11 310 & 11310.0 &  &  & This total only includes Guinea, Liberia and Sierra Leone.  \\\\\n",
       "\t5 & Sierra Leone &  &  & Number of cases & Confirmed & Cumulative & Data package 2016-05-11 & 17 March 2016 & EVD Sierra Leone 2015 & 2 & 2.0 &  &  & Cases and deaths reported after 7 November 2015.  \\\\\n",
       "\t6 & Sierra Leone &  &  & Number of deaths & Suspected & Cumulative & Data package 2016-05-11 & 7 November 2015 & EVD West Africa 2014 & 158 & 158.0 &  &  & The outbreak in Sierra Leone was declared over on 7 November 2015. Due to ongoing surveillance and retrospective validation of cases and deaths, these totals may be subject to revision. \\\\\n",
       "\t7 & Sierra Leone &  &  & Number of cases & Probable & In past 21 days & Data package 2016-05-11 & 7 November 2015 & EVD West Africa 2014 & - &  &  &  & Not applicable.  \\\\\n",
       "\t8 & Sierra Leone &  &  & Number of cases & Total & Cumulative & Data package 2016-05-11 & 7 November 2015 & EVD West Africa 2014 & 14 122 & 14122.0 &  &  & The outbreak in Sierra Leone was declared over on 7 November 2015. Due to ongoing surveillance and retrospective validation of cases and deaths, these totals may be subject to revision. \\\\\n",
       "\t9 & Liberia &  &  & Number of cases & Confirmed & In past 21 days & Data package 2016-05-11 & 9 May 2015 & EVD West Africa 2014 & - &  &  &  & Not applicable. \\\\\n",
       "\t10 & Liberia &  &  & Number of cases & Suspected & Cumulative & Data package 2016-05-11 & 9 May 2015 & EVD West Africa 2014 & 5636 & 5636.0 &  &  & The outbreak in Liberia was declared over on 9 May 2015. Due to ongoing surveillance and retrospective validation of cases and deaths, these totals may be subject to revision. \\\\\n",
       "\t11 & Guinea &  &  & Number of cases & Total & In past 21 days & Data package 2016-05-11 & 8 May 2016 & EVD Guinea 2016 & 0 & 0.0 &  &  & Cases and deaths reported after 28 December 2015.  \\\\\n",
       "\t12 & Guinea &  &  & Number of cases & Probable & In past 21 days & Data package 2016-05-11 & 8 May 2016 & EVD Guinea 2016 & 0 & 0.0 &  &  & Cases and deaths reported after 28 December 2015.  \\\\\n",
       "\t13 & Sierra Leone & All ages (total) & Female & Number of cases & Confirmed & Cumulative & Data package 2016-05-11 &  &  & 5118 & 5118.0 &  &  &  \\\\\n",
       "\t14 & Liberia & All ages (total) & Female & Number of cases & Confirmed & Cumulative & Data package 2016-05-11 &  &  & 1838 & 1838.0 &  &  & Data are until 9 May. \\\\\n",
       "\t15 & All countries &  &  & Number of deaths & Probable & Cumulative & Data package 2016-05-11 &  &  & Data not available. &  &  &  & Data not available. \\\\\n",
       "\t16 & All countries &  &  & Number of cases & Total & In past 21 days & Data package 2016-05-11 &  &  & 0 & 0.0 &  &  & This total only includes Guinea, Liberia and Sierra Leone.  \\\\\n",
       "\t17 & Sierra Leone &  &  & Number of cases & Confirmed & In past 21 days & Data package 2016-05-11 & 17 March 2016 & EVD Sierra Leone 2015 & - &  &  &  & Cases and deaths reported after 7 November 2015.  \\\\\n",
       "\t18 & Sierra Leone &  &  & Number of cases & Suspected & Cumulative & Data package 2016-05-11 & 17 March 2016 & EVD Sierra Leone 2015 & Not reported. &  &  &  & Not reported due to the high proportion of probable and suspected cases that are reclassified. \\\\\n",
       "\t19 & Sierra Leone &  &  & Number of cases & Probable & Cumulative & Data package 2016-05-11 & 7 November 2015 & EVD West Africa 2014 & 287 & 287.0 &  &  & The outbreak in Sierra Leone was declared over on 7 November 2015. Due to ongoing surveillance and retrospective validation of cases and deaths, these totals may be subject to revision. \\\\\n",
       "\t20 & Liberia &  &  & Number of deaths & Total & Cumulative & Data package 2016-05-11 & 8 May 2016 & EVD Liberia 2015 & 4 & 4.0 &  &  & Cases and deaths reported after 9 May 2015.  \\\\\n",
       "\t21 & Liberia &  &  & Number of deaths & Confirmed & Cumulative & Data package 2016-05-11 & 9 May 2015 & EVD West Africa 2014 & Data not available. &  &  &  & Data not available. \\\\\n",
       "\t22 & Liberia &  &  & Number of cases & Suspected & In past 21 days & Data package 2016-05-11 & 9 May 2015 & EVD West Africa 2014 & - &  &  &  & Not applicable. \\\\\n",
       "\t23 & Guinea &  &  & Number of cases & Total & Cumulative & Data package 2016-05-11 & 8 May 2016 & EVD Guinea 2016 & 10 & 10.0 &  &  & Cases and deaths reported after 28 December 2015.  \\\\\n",
       "\t24 & Guinea &  &  & Number of cases & Probable & Cumulative & Data package 2016-05-11 & 8 May 2016 & EVD Guinea 2016 & 3 & 3.0 &  &  & Cases and deaths reported after 28 December 2015.  \\\\\n",
       "\t25 & All countries & All ages (total) & Female & Number of cases & Confirmed & Cumulative & Data package 2016-05-11 &  &  & 8703 & 8703.0 &  &  & Total for Liberia, Sierra Leone, and Guinea where sex is known but age may not be known. Cases per capita are available in the WHO external situation report. \\\\\n",
       "\t26 & Sierra Leone & All ages (total) & Male & Number of cases & Confirmed & Cumulative & Data package 2016-05-11 &  &  & 4823 & 4823.0 &  &  &  \\\\\n",
       "\t27 & All countries &  &  & Number of deaths & Suspected & Cumulative & Data package 2016-05-11 &  &  & Data not available. &  &  &  & Data not available. \\\\\n",
       "\t28 & All countries &  &  & Number of deaths & Confirmed & Cumulative & Data package 2016-05-11 &  &  & Data not available. &  &  &  & Data not available. \\\\\n",
       "\t29 & Sierra Leone &  &  & Number of cases & Probable & In past 21 days & Data package 2016-05-11 & 17 March 2016 & EVD Sierra Leone 2015 & Not reported. &  &  &  & Not reported due to the high proportion of probable and suspected cases that are reclassified. \\\\\n",
       "\t30 & Sierra Leone &  &  & Number of cases & Total & Cumulative & Data package 2016-05-11 & 17 March 2016 & EVD Sierra Leone 2015 & 2 & 2.0 &  &  & Cases and deaths reported after 7 November 2015.  \\\\\n",
       "\t$\\dots$ & $\\dots$ & $\\dots$ & $\\dots$ & $\\dots$ & $\\dots$ & $\\dots$ & $\\dots$ & $\\dots$ & $\\dots$ & $\\dots$ & $\\dots$ & $\\dots$ & $\\dots$ & $\\dots$ \\\\\n",
       "\\end{tabular}\n"
      ],
      "text/plain": [
       "104×14 DataFrames.DataFrame. Omitted printing of 10 columns\n",
       "│ Row │ Country       │ Age group        │ Gender     │ Ebola measure    │\n",
       "│     │ \u001b[90mString⍰\u001b[39m       │ \u001b[90mString⍰\u001b[39m          │ \u001b[90mString⍰\u001b[39m    │ \u001b[90mString⍰\u001b[39m          │\n",
       "├─────┼───────────────┼──────────────────┼────────────┼──────────────────┤\n",
       "│ 1   │ Guinea        │ All ages (total) │ Female     │ Number of cases  │\n",
       "│ 2   │ Sierra Leone  │ 45+              │ Both sexes │ Number of cases  │\n",
       "│ 3   │ Guinea        │ 15-44            │ Both sexes │ Number of cases  │\n",
       "│ 4   │ All countries │ \u001b[90mmissing\u001b[39m          │ \u001b[90mmissing\u001b[39m    │ Number of deaths │\n",
       "│ 5   │ Sierra Leone  │ \u001b[90mmissing\u001b[39m          │ \u001b[90mmissing\u001b[39m    │ Number of cases  │\n",
       "│ 6   │ Sierra Leone  │ \u001b[90mmissing\u001b[39m          │ \u001b[90mmissing\u001b[39m    │ Number of deaths │\n",
       "│ 7   │ Sierra Leone  │ \u001b[90mmissing\u001b[39m          │ \u001b[90mmissing\u001b[39m    │ Number of cases  │\n",
       "│ 8   │ Sierra Leone  │ \u001b[90mmissing\u001b[39m          │ \u001b[90mmissing\u001b[39m    │ Number of cases  │\n",
       "│ 9   │ Liberia       │ \u001b[90mmissing\u001b[39m          │ \u001b[90mmissing\u001b[39m    │ Number of cases  │\n",
       "│ 10  │ Liberia       │ \u001b[90mmissing\u001b[39m          │ \u001b[90mmissing\u001b[39m    │ Number of cases  │\n",
       "⋮\n",
       "│ 94  │ Liberia       │ 45+              │ Both sexes │ Number of cases  │\n",
       "│ 95  │ All countries │ \u001b[90mmissing\u001b[39m          │ \u001b[90mmissing\u001b[39m    │ Number of cases  │\n",
       "│ 96  │ Sierra Leone  │ \u001b[90mmissing\u001b[39m          │ \u001b[90mmissing\u001b[39m    │ Number of deaths │\n",
       "│ 97  │ Sierra Leone  │ \u001b[90mmissing\u001b[39m          │ \u001b[90mmissing\u001b[39m    │ Number of deaths │\n",
       "│ 98  │ Sierra Leone  │ \u001b[90mmissing\u001b[39m          │ \u001b[90mmissing\u001b[39m    │ Number of cases  │\n",
       "│ 99  │ Liberia       │ \u001b[90mmissing\u001b[39m          │ \u001b[90mmissing\u001b[39m    │ Number of cases  │\n",
       "│ 100 │ Liberia       │ \u001b[90mmissing\u001b[39m          │ \u001b[90mmissing\u001b[39m    │ Number of cases  │\n",
       "│ 101 │ Guinea        │ \u001b[90mmissing\u001b[39m          │ \u001b[90mmissing\u001b[39m    │ Number of deaths │\n",
       "│ 102 │ Guinea        │ \u001b[90mmissing\u001b[39m          │ \u001b[90mmissing\u001b[39m    │ Number of deaths │\n",
       "│ 103 │ Guinea        │ \u001b[90mmissing\u001b[39m          │ \u001b[90mmissing\u001b[39m    │ Number of cases  │\n",
       "│ 104 │ Guinea        │ \u001b[90mmissing\u001b[39m          │ \u001b[90mmissing\u001b[39m    │ Number of cases  │"
      ]
     },
     "execution_count": 1,
     "metadata": {},
     "output_type": "execute_result"
    }
   ],
   "source": [
    "using CSV\n",
    "df = CSV.read(\"ebola.csv\")"
   ]
  },
  {
   "cell_type": "code",
   "execution_count": 5,
   "metadata": {},
   "outputs": [
    {
     "ename": "ArgumentError",
     "evalue": "ArgumentError: column name :first not found in the data frame",
     "output_type": "error",
     "traceback": [
      "ArgumentError: column name :first not found in the data frame",
      "",
      "Stacktrace:",
      " [1] getindex(::DataFrames.DataFrame, ::Symbol) at /home/anderson.zanichelli/.julia/packages/DataFrames/IKMvt/src/other/index.jl:164",
      " [2] getproperty(::DataFrames.DataFrame, ::Symbol) at /home/anderson.zanichelli/.julia/packages/DataFrames/IKMvt/src/abstractdataframe/abstractdataframe.jl:227",
      " [3] top-level scope at In[5]:1"
     ]
    }
   ],
   "source": []
  },
  {
   "cell_type": "code",
   "execution_count": null,
   "metadata": {},
   "outputs": [],
   "source": []
  }
 ],
 "metadata": {
  "kernelspec": {
   "display_name": "Julia 1.0.3",
   "language": "julia",
   "name": "julia-1.0"
  },
  "language_info": {
   "file_extension": ".jl",
   "mimetype": "application/julia",
   "name": "julia",
   "version": "1.0.3"
  }
 },
 "nbformat": 4,
 "nbformat_minor": 2
}
